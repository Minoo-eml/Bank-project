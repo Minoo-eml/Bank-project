{
 "cells": [
  {
   "cell_type": "code",
   "execution_count": 1,
   "id": "9e67eda2",
   "metadata": {},
   "outputs": [],
   "source": [
    "import pandas as pd\n",
    "import numpy as np\n",
    "import seaborn as sns\n",
    "import matplotlib.pyplot as plt"
   ]
  },
  {
   "cell_type": "code",
   "execution_count": 2,
   "id": "1cc0436f",
   "metadata": {},
   "outputs": [],
   "source": [
    "bank=pd.read_csv('bank 1.csv')"
   ]
  },
  {
   "cell_type": "code",
   "execution_count": 3,
   "id": "e11cd91d",
   "metadata": {},
   "outputs": [],
   "source": [
    "bank.drop(['x1'] , axis=1 , inplace=True)\n",
    "bank.drop(['x9'], axis=1 , inplace=True)"
   ]
  },
  {
   "cell_type": "code",
   "execution_count": 4,
   "id": "bd5557b0",
   "metadata": {},
   "outputs": [],
   "source": [
    "x=bank.drop('T' ,axis=1).values\n",
    "y=bank['T'].values"
   ]
  },
  {
   "cell_type": "code",
   "execution_count": 6,
   "id": "52df56ae",
   "metadata": {},
   "outputs": [],
   "source": [
    "from sklearn.model_selection import train_test_split\n",
    "x_train , x_test , y_train , y_test = train_test_split(x,y, test_size=0.2 , random_state=0)"
   ]
  },
  {
   "cell_type": "code",
   "execution_count": 7,
   "id": "b9c63210",
   "metadata": {},
   "outputs": [
    {
     "name": "stdout",
     "output_type": "stream",
     "text": [
      "the shape of x_train:  (8594, 14)\n",
      "the shape of y_train:  (8594,)\n",
      "the shape of x_test:  (2149, 14)\n",
      "the shape of y_test:  (2149,)\n"
     ]
    }
   ],
   "source": [
    "print('the shape of x_train: ' , x_train.shape)\n",
    "print('the shape of y_train: ' , y_train.shape)\n",
    "print('the shape of x_test: ' , x_test.shape)\n",
    "print('the shape of y_test: ' , y_test.shape)"
   ]
  },
  {
   "cell_type": "code",
   "execution_count": 15,
   "id": "7ce2a97c",
   "metadata": {},
   "outputs": [
    {
     "name": "stdout",
     "output_type": "stream",
     "text": [
      "[[   0 7480]\n",
      " [   1 1114]]\n",
      "[[   0 1861]\n",
      " [   1  288]]\n"
     ]
    }
   ],
   "source": [
    "unique, counts = np.unique( y_train, return_counts=True)\n",
    "print (np.asarray((unique, counts)).T)\n",
    "unique, counts = np.unique( y_test, return_counts=True)\n",
    "print (np.asarray((unique, counts)).T)\n"
   ]
  },
  {
   "cell_type": "code",
   "execution_count": 16,
   "id": "835de70c",
   "metadata": {},
   "outputs": [],
   "source": [
    "from imblearn.over_sampling import SMOTE\n",
    "sm=SMOTE(random_state=0)\n",
    "sm.fit(x_train ,y_train)\n",
    "x_re,y_re = sm.fit_resample(x_train ,y_train)"
   ]
  },
  {
   "cell_type": "code",
   "execution_count": 18,
   "id": "9634d09c",
   "metadata": {},
   "outputs": [
    {
     "name": "stdout",
     "output_type": "stream",
     "text": [
      "[[   0 7480]\n",
      " [   1 7480]]\n",
      "[[   0 1861]\n",
      " [   1  288]]\n"
     ]
    }
   ],
   "source": [
    "unique, counts = np.unique( y_re, return_counts=True)\n",
    "print (np.asarray((unique, counts)).T)\n",
    "unique, counts = np.unique( y_test, return_counts=True)\n",
    "print (np.asarray((unique, counts)).T)\n"
   ]
  },
  {
   "cell_type": "code",
   "execution_count": 13,
   "id": "d9f5c64e",
   "metadata": {},
   "outputs": [
    {
     "name": "stderr",
     "output_type": "stream",
     "text": [
      "c:\\users\\user\\appdata\\local\\programs\\python\\python39\\lib\\site-packages\\xgboost\\sklearn.py:1224: UserWarning: The use of label encoder in XGBClassifier is deprecated and will be removed in a future release. To remove this warning, do the following: 1) Pass option use_label_encoder=False when constructing XGBClassifier object; and 2) Encode your labels (y) as integers starting with 0, i.e. 0, 1, 2, ..., [num_class - 1].\n",
      "  warnings.warn(label_encoder_deprecation_msg, UserWarning)\n"
     ]
    },
    {
     "name": "stdout",
     "output_type": "stream",
     "text": [
      "[16:44:24] WARNING: C:/Users/Administrator/workspace/xgboost-win64_release_1.5.0/src/learner.cc:1115: Starting in XGBoost 1.3.0, the default evaluation metric used with the objective 'binary:logistic' was changed from 'error' to 'logloss'. Explicitly set eval_metric if you'd like to restore the old behavior.\n"
     ]
    },
    {
     "data": {
      "text/plain": [
       "<AxesSubplot:>"
      ]
     },
     "execution_count": 13,
     "metadata": {},
     "output_type": "execute_result"
    },
    {
     "data": {
      "image/png": "[encoded data removed]",
      "text/plain": [
       "<Figure size 432x288 with 2 Axes>"
      ]
     },
     "metadata": {
      "needs_background": "light"
     },
     "output_type": "display_data"
    }
   ],
   "source": [
    "from xgboost import XGBClassifier\n",
    "xg = XGBClassifier()\n",
    "xg.fit(x_re,y_re)\n",
    "from sklearn.metrics import classification_report ,confusion_matrix\n",
    "y_predict=xg.predict(x_test)\n",
    "cm=confusion_matrix(y_test , y_predict)\n",
    "sns.heatmap(cm , annot=True)"
   ]
  },
  {
   "cell_type": "code",
   "execution_count": 14,
   "id": "074e6465",
   "metadata": {},
   "outputs": [
    {
     "name": "stdout",
     "output_type": "stream",
     "text": [
      "              precision    recall  f1-score   support\n",
      "\n",
      "           0       0.94      0.58      0.72      1861\n",
      "           1       0.21      0.74      0.33       288\n",
      "\n",
      "    accuracy                           0.60      2149\n",
      "   macro avg       0.58      0.66      0.52      2149\n",
      "weighted avg       0.84      0.60      0.66      2149\n",
      "\n"
     ]
    },
    {
     "data": {
      "text/html": [
       "<div>\n",
       "<style scoped>\n",
       "    .dataframe tbody tr th:only-of-type {\n",
       "        vertical-align: middle;\n",
       "    }\n",
       "\n",
       "    .dataframe tbody tr th {\n",
       "        vertical-align: top;\n",
       "    }\n",
       "\n",
       "    .dataframe thead th {\n",
       "        text-align: right;\n",
       "    }\n",
       "</style>\n",
       "<table border=\"1\" class=\"dataframe\">\n",
       "  <thead>\n",
       "    <tr style=\"text-align: right;\">\n",
       "      <th>col_0</th>\n",
       "      <th>0</th>\n",
       "      <th>1</th>\n",
       "    </tr>\n",
       "    <tr>\n",
       "      <th>row_0</th>\n",
       "      <th></th>\n",
       "      <th></th>\n",
       "    </tr>\n",
       "  </thead>\n",
       "  <tbody>\n",
       "    <tr>\n",
       "      <th>0</th>\n",
       "      <td>1077</td>\n",
       "      <td>784</td>\n",
       "    </tr>\n",
       "    <tr>\n",
       "      <th>1</th>\n",
       "      <td>74</td>\n",
       "      <td>214</td>\n",
       "    </tr>\n",
       "  </tbody>\n",
       "</table>\n",
       "</div>"
      ],
      "text/plain": [
       "col_0     0    1\n",
       "row_0           \n",
       "0      1077  784\n",
       "1        74  214"
      ]
     },
     "execution_count": 14,
     "metadata": {},
     "output_type": "execute_result"
    }
   ],
   "source": [
    "from sklearn.metrics import classification_report\n",
    "print(classification_report(y_test , y_predict))\n",
    "pd.crosstab(y_test , y_predict)"
   ]
  },
  {
   "cell_type": "code",
   "execution_count": null,
   "id": "35d5eb7a",
   "metadata": {},
   "outputs": [],
   "source": []
  }
 ],
 "metadata": {
  "kernelspec": {
   "display_name": "Python 3",
   "language": "python",
   "name": "python3"
  },
  "language_info": {
   "codemirror_mode": {
    "name": "ipython",
    "version": 3
   },
   "file_extension": ".py",
   "mimetype": "text/x-python",
   "name": "python",
   "nbconvert_exporter": "python",
   "pygments_lexer": "ipython3",
   "version": "3.9.4"
  }
 },
 "nbformat": 4,
 "nbformat_minor": 5
}
